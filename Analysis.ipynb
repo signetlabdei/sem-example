{
 "cells": [
  {
   "cell_type": "markdown",
   "metadata": {
    "ein.tags": "worksheet-0",
    "slideshow": {
     "slide_type": "-"
    }
   },
   "source": [
    "# Using SEM to analyze the output of ns-3 simulations"
   ]
  },
  {
   "cell_type": "markdown",
   "metadata": {
    "ein.tags": "worksheet-0",
    "slideshow": {
     "slide_type": "-"
    }
   },
   "source": [
    "This notebook provides an overview of features offered by SEM.\n",
    "In particular, we will:\n",
    "\n",
    "1. Create an ns-3 simulation campaign\n",
    "2. Use it to run some simulations\n",
    "3. Parse the results\n",
    "4. Explore how input parameters change the output of our simulations"
   ]
  },
  {
   "cell_type": "markdown",
   "metadata": {
    "ein.tags": "worksheet-0",
    "slideshow": {
     "slide_type": "-"
    }
   },
   "source": [
    "First of all, let's import the library, which can easily be installed through pip:\n",
    "\n",
    "```bash\n",
    "pip3 install sem\n",
    "```"
   ]
  },
  {
   "cell_type": "code",
   "execution_count": null,
   "metadata": {
    "autoscroll": false,
    "collapsed": false,
    "ein.hycell": false,
    "ein.tags": "worksheet-0",
    "slideshow": {
     "slide_type": "-"
    }
   },
   "outputs": [],
   "source": [
    "import sem\n",
    "\n",
    "import pprint"
   ]
  },
  {
   "cell_type": "markdown",
   "metadata": {
    "ein.tags": "worksheet-0",
    "slideshow": {
     "slide_type": "-"
    }
   },
   "source": [
    "Now, let's create a campaign object. In order to do this, we need to tell SEM about three things:\n",
    "\n",
    "1. The location of our ns-3 installation;\n",
    "2. The name of the script to run in this campaign;\n",
    "3. A directory in which to save results.\n",
    "\n",
    "For this example, we will employ the `wifi-multi-tos` script, which prints the aggregated throughput of a WiFi network to the standard output, and which can be configured through various command-line parameters."
   ]
  },
  {
   "cell_type": "code",
   "execution_count": null,
   "metadata": {
    "autoscroll": false,
    "collapsed": false,
    "ein.hycell": false,
    "ein.tags": "worksheet-0",
    "slideshow": {
     "slide_type": "-"
    }
   },
   "outputs": [],
   "source": [
    "script = 'wifi-multi-tos'\n",
    "ns_3_dir = './ns-3'\n",
    "results_dir = 'results'\n",
    "campaign = sem.CampaignManager.new(ns_3_dir, script, results_dir)"
   ]
  },
  {
   "cell_type": "markdown",
   "metadata": {
    "ein.tags": "worksheet-0",
    "slideshow": {
     "slide_type": "-"
    }
   },
   "source": [
    "Note that this step also compiled ns-3 in optimized mode. We can now print the newly obtained object to inspect it:"
   ]
  },
  {
   "cell_type": "code",
   "execution_count": null,
   "metadata": {
    "autoscroll": false,
    "collapsed": false,
    "ein.hycell": false,
    "ein.tags": "worksheet-0",
    "slideshow": {
     "slide_type": "-"
    }
   },
   "outputs": [],
   "source": [
    "print(campaign)"
   ]
  },
  {
   "cell_type": "markdown",
   "metadata": {
    "ein.tags": "worksheet-0",
    "slideshow": {
     "slide_type": "-"
    }
   },
   "source": [
    "As a next step, let's define the space of the parameters we are interested in exploring. A list of all available parameters is already provided when printing the campaign info: we just need to create a dictionary where the keys are the parameter names and the values are lists of values for the corresponding parameter. Additionally, we also define a `runs` variable, in which we specify how many ranodmized runs we want to perform for each parameter combination."
   ]
  },
  {
   "cell_type": "code",
   "execution_count": null,
   "metadata": {
    "autoscroll": false,
    "collapsed": false,
    "ein.hycell": false,
    "ein.tags": "worksheet-0",
    "slideshow": {
     "slide_type": "-"
    }
   },
   "outputs": [],
   "source": [
    "param_ranges = {\n",
    "    'channelWidth': [20],  # Channel width of 20 MHz\n",
    "    'distance': [10],  # Distance from the Access Point\n",
    "    'mcs': [0, 3, 6],  # Modulation Coding Scheme to employ\n",
    "    'nWifi': [1, 2],  # Number of wifi devices to connect to the AP\n",
    "    'simulationTime': [2],  # Duration of the simulation in seconds\n",
    "    'useRts': [False, True],  # Whether to use the Request To Send mechanism\n",
    "    'useShortGuardInterval': [False, True]  # Whether to use the short guard interval\n",
    "}\n",
    "runs = 3"
   ]
  },
  {
   "cell_type": "markdown",
   "metadata": {
    "ein.tags": "worksheet-0",
    "slideshow": {
     "slide_type": "-"
    }
   },
   "source": [
    "We can now run the simulations specified by the parameter space."
   ]
  },
  {
   "cell_type": "code",
   "execution_count": null,
   "metadata": {
    "autoscroll": false,
    "collapsed": false,
    "ein.hycell": false,
    "ein.tags": "worksheet-0",
    "slideshow": {
     "slide_type": "-"
    }
   },
   "outputs": [],
   "source": [
    "campaign.run_missing_simulations(param_ranges, runs)"
   ]
  },
  {
   "cell_type": "markdown",
   "metadata": {
    "ein.tags": "worksheet-0",
    "slideshow": {
     "slide_type": "-"
    }
   },
   "source": [
    "Now, try executing the cell above a second time: you will notice that the execution terminates immediately. SEM knows it already performed the simulations we asked for, and that they are saved in the local database - there's no need to repeat them, so the call just terminates. If, instead, you increase the value of the `runs` variable, SEM will need to run additional simulations when the simulation running function is called again.\n",
    "\n",
    "Let's inspect one of the results we got from the simulation: we can do this by calling the `get_complete_results` function provided by the campaign's `db` object. When called without arguments, this function returns a list of all available results - we just print the first one."
   ]
  },
  {
   "cell_type": "code",
   "execution_count": null,
   "metadata": {
    "autoscroll": false,
    "collapsed": false,
    "ein.hycell": false,
    "ein.tags": "worksheet-0",
    "slideshow": {
     "slide_type": "-"
    }
   },
   "outputs": [],
   "source": [
    "example_result = campaign.db.get_complete_results()[0]\n",
    "pprint.pprint(example_result)"
   ]
  },
  {
   "cell_type": "markdown",
   "metadata": {
    "ein.tags": "worksheet-0",
    "slideshow": {
     "slide_type": "-"
    }
   },
   "source": [
    "We can see that the result object is simply a nested dictionary structure.\n",
    "\n",
    "- The `meta` key contains the time it took to run the simulation, and a unique id for the result;\n",
    "- The `output` key contains a list of all files generated by the simulation, and their contents;\n",
    "- The `params` key contains all the parameters that were used to obtain the result.\n",
    "\n",
    "The value we are interested in is the throughput, and it is contained in the `stdout` entry of the `output` dictionary. Let's use the `example_result` to test a function that extracts this value from the result."
   ]
  },
  {
   "cell_type": "code",
   "execution_count": null,
   "metadata": {
    "autoscroll": false,
    "collapsed": false,
    "ein.hycell": false,
    "ein.tags": "worksheet-0",
    "slideshow": {
     "slide_type": "-"
    }
   },
   "outputs": [],
   "source": [
    "print (\"Raw output string: %s\" % example_result['output']['stdout'])\n",
    "\n",
    "def get_throughput(result):\n",
    "    if \"Aggregated throughput\" in result['output']['stdout']:\n",
    "            return float(result['output']['stdout'].split(\" \")[-2])\n",
    "    return 0\n",
    "\n",
    "print(\"Parsed result: %s\" % get_throughput(example_result))"
   ]
  },
  {
   "cell_type": "markdown",
   "metadata": {
    "ein.tags": "worksheet-0",
    "slideshow": {
     "slide_type": "-"
    }
   },
   "source": [
    "The `get_throughput` function we just defined and tested operates on a result, tests whether the 'Aggregated throughput' line is in it, and then extracts the second-to-last element of the sentence, which corresponds to the desired throughput value.\n",
    "\n",
    "Now that we have a function that translates simulation results into a metric of interest (throughput in our case), we can employ it to explore how the input parameters influence throughput. For this, SEM provides the `utils.interactive_plot` function, which requires as inputs the simulation campaign object, a range of parameters we want to explore, a result-parsing function, the parameter to put on the horizontal axis and the number of runs to average before plotting. If the function is run from within a Jupyter notebook, an interactive plot with interactive parameter-selection widgets is generated."
   ]
  },
  {
   "cell_type": "code",
   "execution_count": null,
   "metadata": {
    "autoscroll": false,
    "collapsed": false,
    "ein.hycell": false,
    "ein.tags": "worksheet-0",
    "slideshow": {
     "slide_type": "-"
    }
   },
   "outputs": [],
   "source": [
    "sem.utils.interactive_plot(campaign, param_ranges, get_throughput, 'mcs', runs)"
   ]
  }
 ],
 "metadata": {
  "kernelspec": {
   "argv": [
    "python",
    "-m",
    "ipykernel_launcher",
    "-f",
    "{connection_file}"
   ],
   "display_name": "Python 3",
   "env": null,
   "interrupt_mode": "signal",
   "language": "python",
   "metadata": null,
   "name": "python3"
  },
  "language_info": {
   "codemirror_mode": {
    "name": "ipython",
    "version": 3
   },
   "file_extension": ".py",
   "mimetype": "text/x-python",
   "name": "python",
   "nbconvert_exporter": "python",
   "pygments_lexer": "ipython3",
   "version": "3.6.8"
  },
  "name": "Analysis.ipynb"
 },
 "nbformat": 4,
 "nbformat_minor": 2
}
